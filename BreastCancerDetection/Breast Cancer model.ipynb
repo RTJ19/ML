{
 "cells": [
  {
   "cell_type": "code",
   "execution_count": 1,
   "metadata": {},
   "outputs": [],
   "source": [
    "# Load libraries\n",
    "import pandas as pd\n",
    "import matplotlib.pyplot as plt\n",
    "from sklearn import model_selection\n",
    "from sklearn.metrics import *\n",
    "from sklearn.neighbors import KNeighborsClassifier\n",
    "from sklearn.preprocessing import *\n",
    "from sklearn.model_selection import train_test_split\n",
    "import numpy as np\n",
    "from IPython.display import Image"
   ]
  },
  {
   "cell_type": "code",
   "execution_count": 2,
   "metadata": {},
   "outputs": [],
   "source": [
    "# Load datast\n",
    "dataset = pd.read_csv(\"F:/ML/Git ML/BreastCancerDetection/wisc_bc_data.csv\")\n"
   ]
  },
  {
   "cell_type": "code",
   "execution_count": 3,
   "metadata": {
    "scrolled": true
   },
   "outputs": [
    {
     "name": "stdout",
     "output_type": "stream",
     "text": [
      "(569, 1)\n"
     ]
    }
   ],
   "source": [
    "#data PreProcessing\n",
    "dataset2 = dataset.drop(columns=\"id\")\n",
    "df = dataset2.drop(columns=\"diagnosis\")\n",
    "df1 = (df-df.min())/(df.max()-df.min()) #normalizing \n",
    "#dependent variable\n",
    "df2 = pd.DataFrame(dataset.loc[:,\"diagnosis\"])\n",
    "# Binarize the output\n",
    "df2 = label_binarize(df2, classes=[\"B\", \"M\"])\n",
    "n_classes = df2.shape[1]\n",
    "\n",
    "print (df2.shape)"
   ]
  },
  {
   "cell_type": "code",
   "execution_count": 11,
   "metadata": {},
   "outputs": [],
   "source": [
    "#define KNN in terms of test size & neighbours so that it can be called upon later\n",
    "def knnclass(i,j):\n",
    "    #split dataset into training and validation\n",
    "    X_train, X_validation, Y_train, Y_validation = train_test_split(df1, df2, test_size=i, random_state=7)\n",
    "    classifier = KNeighborsClassifier(n_neighbors = j)\n",
    "    classifier.fit(X_train, Y_train.ravel())\n",
    "    # prediction\n",
    "    y_predict = classifier.predict(X_validation)\n",
    "    return (round((accuracy_score(Y_validation,y_predict)),3))\n",
    "    #return (y_predict)"
   ]
  },
  {
   "cell_type": "code",
   "execution_count": 12,
   "metadata": {
    "scrolled": true
   },
   "outputs": [
    {
     "name": "stdout",
     "output_type": "stream",
     "text": [
      "     testsize neighbours accuracy\n",
      "0        0.05          2    0.931\n",
      "1        0.05          3    0.931\n",
      "2        0.05          4    0.931\n",
      "3        0.05          5    0.931\n",
      "4        0.05          6    0.931\n",
      "5        0.05          7    0.931\n",
      "6        0.05          8    0.931\n",
      "7        0.05          9    0.931\n",
      "8        0.05         10    0.931\n",
      "9        0.05         11    0.931\n",
      "10       0.05         12    0.931\n",
      "11       0.05         13    0.931\n",
      "12       0.05         14    0.931\n",
      "13       0.05         15    0.931\n",
      "14       0.05         16    0.897\n",
      "15       0.05         17    0.931\n",
      "16       0.05         18    0.897\n",
      "17       0.05         19    0.897\n",
      "18       0.05         20    0.897\n",
      "19       0.05         21    0.897\n",
      "20       0.05         22    0.897\n",
      "21       0.05         23    0.897\n",
      "22       0.05         24    0.897\n",
      "23       0.05         25    0.897\n",
      "24       0.05         26    0.897\n",
      "25       0.05         27    0.897\n",
      "26       0.05         28    0.897\n",
      "27       0.05         29    0.897\n",
      "28       0.05         30    0.897\n",
      "29       0.05         31    0.897\n",
      "...       ...        ...      ...\n",
      "2175     0.49         21    0.953\n",
      "2176     0.49         22    0.957\n",
      "2177     0.49         23    0.957\n",
      "2178     0.49         24    0.957\n",
      "2179     0.49         25    0.957\n",
      "2180     0.49         26    0.957\n",
      "2181     0.49         27    0.957\n",
      "2182     0.49         28    0.957\n",
      "2183     0.49         29    0.953\n",
      "2184     0.49         30    0.957\n",
      "2185     0.49         31    0.957\n",
      "2186     0.49         32    0.957\n",
      "2187     0.49         33    0.953\n",
      "2188     0.49         34    0.953\n",
      "2189     0.49         35    0.953\n",
      "2190     0.49         36    0.953\n",
      "2191     0.49         37     0.95\n",
      "2192     0.49         38    0.953\n",
      "2193     0.49         39     0.95\n",
      "2194     0.49         40     0.95\n",
      "2195     0.49         41     0.95\n",
      "2196     0.49         42    0.946\n",
      "2197     0.49         43    0.946\n",
      "2198     0.49         44     0.95\n",
      "2199     0.49         45    0.946\n",
      "2200     0.49         46     0.95\n",
      "2201     0.49         47     0.95\n",
      "2202     0.49         48     0.95\n",
      "2203     0.49         49     0.95\n",
      "2204     0.49         50    0.953\n",
      "\n",
      "[2205 rows x 3 columns]\n"
     ]
    }
   ],
   "source": [
    "#to generate the dataframe that has all the possible combination of testsize and neighbours\n",
    "import time\n",
    "analysisdf = pd.DataFrame(columns= [\"testsize\",\"neighbours\",\"accuracy\"])\n",
    "i = 0.05\n",
    "l = 0\n",
    "while i <= 0.50:\n",
    "    for j in range (2,51):\n",
    "        analysisdf.loc[l,\"testsize\"]= i\n",
    "        analysisdf.loc[l,\"neighbours\"]= j\n",
    "        analysisdf.loc[l,\"accuracy\"]= knnclass(i,j)\n",
    "        l += 1\n",
    "    i += 0.01    \n",
    "\n",
    "analysisdf.head()\n",
    "#incase you want to print to a local file\n",
    "#analysisdf.to_csv(\"trial.csv\")\n"
   ]
  },
  {
   "cell_type": "code",
   "execution_count": 15,
   "metadata": {},
   "outputs": [
    {
     "data": {
      "text/html": [
       "<div>\n",
       "<style scoped>\n",
       "    .dataframe tbody tr th:only-of-type {\n",
       "        vertical-align: middle;\n",
       "    }\n",
       "\n",
       "    .dataframe tbody tr th {\n",
       "        vertical-align: top;\n",
       "    }\n",
       "\n",
       "    .dataframe thead th {\n",
       "        text-align: right;\n",
       "    }\n",
       "</style>\n",
       "<table border=\"1\" class=\"dataframe\">\n",
       "  <thead>\n",
       "    <tr style=\"text-align: right;\">\n",
       "      <th></th>\n",
       "      <th>testsize</th>\n",
       "      <th>neighbours</th>\n",
       "      <th>accuracy</th>\n",
       "    </tr>\n",
       "  </thead>\n",
       "  <tbody>\n",
       "    <tr>\n",
       "      <th>1915</th>\n",
       "      <td>0.44</td>\n",
       "      <td>6</td>\n",
       "      <td>0.976</td>\n",
       "    </tr>\n",
       "  </tbody>\n",
       "</table>\n",
       "</div>"
      ],
      "text/plain": [
       "     testsize neighbours accuracy\n",
       "1915     0.44          6    0.976"
      ]
     },
     "execution_count": 15,
     "metadata": {},
     "output_type": "execute_result"
    }
   ],
   "source": [
    "#to get the ideal combination of the above which gives the maximum accuracy\n",
    "best = analysisdf['accuracy'].max()\n",
    "opti = analysisdf[analysisdf['accuracy'] == best ]\n",
    "opti"
   ]
  },
  {
   "cell_type": "code",
   "execution_count": 16,
   "metadata": {},
   "outputs": [],
   "source": [
    "#neighbors and testsize to get the acccuracy max\n",
    "rownumber= analysisdf[analysisdf['accuracy']== best].index.item()\n",
    "tsgood= analysisdf.loc[rownumber,\"testsize\"]\n",
    "nbrsgood= analysisdf.loc[rownumber,\"neighbours\"]"
   ]
  },
  {
   "cell_type": "code",
   "execution_count": 17,
   "metadata": {},
   "outputs": [
    {
     "name": "stdout",
     "output_type": "stream",
     "text": [
      "[[159   1]\n",
      " [  5  86]]\n"
     ]
    }
   ],
   "source": [
    "#Analyis of data by using confusion matrix & Roc Curve\n",
    "#split dataset into training and validation\n",
    "X_train, X_validation, Y_train, Y_validation = train_test_split(df1, df2, test_size=tsgood, random_state=7)\n",
    "classifier = KNeighborsClassifier(n_neighbors = nbrsgood)\n",
    "classifier.fit(X_train, Y_train.ravel()) \n",
    "# prediction\n",
    "y_predict = classifier.predict(X_validation)\n",
    "# data for roc curve \n",
    "fpr, tpr, thresholds = roc_curve(Y_validation, y_predict, pos_label=1)\n",
    "print (confusion_matrix(Y_validation,y_predict))\n"
   ]
  },
  {
   "cell_type": "code",
   "execution_count": 18,
   "metadata": {},
   "outputs": [
    {
     "data": {
      "image/png": "[encoded data removed]",
      "text/plain": [
       "<matplotlib.figure.Figure at 0xadb5d84160>"
      ]
     },
     "metadata": {},
     "output_type": "display_data"
    }
   ],
   "source": [
    "#Plotting the ROC curve\n",
    "plt.figure()\n",
    "lw = 2\n",
    "plt.plot(fpr, tpr, color='darkorange',\n",
    "         lw=lw, label='ROC curve (area = %0.2f)' % auc(fpr, tpr))\n",
    "plt.plot([0, 1], [0, 1], color='navy', lw=lw, linestyle='--')\n",
    "plt.xlabel('False Positive Rate')\n",
    "plt.ylabel('True Positive Rate')\n",
    "plt.title('Receiver operating characteristic')\n",
    "plt.legend(loc=\"lower right\")\n",
    "plt.show()"
   ]
  },
  {
   "cell_type": "markdown",
   "metadata": {},
   "source": [
    "Types of ROC curve\n",
    "![Image](https://sonoworld.com/images/FetusItemImages/article-images/Technique/ROC_curves/4.jpg)"
   ]
  },
  {
   "cell_type": "markdown",
   "metadata": {},
   "source": [
    "Comparing both the graphs we can safely assume that the model is close to an excellent model"
   ]
  },
  {
   "cell_type": "code",
   "execution_count": null,
   "metadata": {},
   "outputs": [],
   "source": []
  }
 ],
 "metadata": {
  "kernelspec": {
   "display_name": "Python 3",
   "language": "python",
   "name": "python3"
  },
  "language_info": {
   "codemirror_mode": {
    "name": "ipython",
    "version": 3
   },
   "file_extension": ".py",
   "mimetype": "text/x-python",
   "name": "python",
   "nbconvert_exporter": "python",
   "pygments_lexer": "ipython3",
   "version": "3.6.4"
  }
 },
 "nbformat": 4,
 "nbformat_minor": 2
}
